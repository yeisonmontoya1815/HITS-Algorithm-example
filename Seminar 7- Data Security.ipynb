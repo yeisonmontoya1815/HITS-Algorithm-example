{
 "cells": [
  {
   "cell_type": "markdown",
   "metadata": {},
   "source": [
    "# **Seminar VII - Data Security** \n",
    "- *Yeison Montoya ID: 300375916*\n",
    "- *Special Topics in Data Analytics CSIS 4260 - 002*\n",
    "- *Seminar VI - WINTER 2024*"
   ]
  },
  {
   "cell_type": "markdown",
   "metadata": {},
   "source": [
    "## **Executive Summary**\n",
    "\n",
    "The rise of big data has brought about numerous possibilities and obstacles in managing information, particularly in terms of safeguarding security and privacy. This study explores the intricacies of securing vast amounts of data and tackling significant challenges such as breaches, exposure, and compliance matters. It highlights the technologies and regulations that can help reduce risks and focuses on recent incidents, underscoring the pressing need for strong security measures. The report's analysis contributes to better understanding and resolving security and privacy concerns in the age of big data.\n"
   ]
  },
  {
   "cell_type": "code",
   "execution_count": null,
   "metadata": {},
   "outputs": [],
   "source": []
  }
 ],
 "metadata": {
  "language_info": {
   "name": "python"
  }
 },
 "nbformat": 4,
 "nbformat_minor": 2
}
