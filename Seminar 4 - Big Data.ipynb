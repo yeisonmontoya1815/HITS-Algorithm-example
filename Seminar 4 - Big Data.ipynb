{
 "cells": [
  {
   "cell_type": "markdown",
   "metadata": {},
   "source": [
    "# **Big Data: Challenges and Strategies in Data Generation, Storage, and Retrieval**"
   ]
  },
  {
   "cell_type": "code",
   "execution_count": 47,
   "metadata": {},
   "outputs": [],
   "source": [
    "import pandas as pd\n",
    "\n",
    "results = pd.read_csv('C:\\\\Users\\\\yeiso\\\\Documents\\\\GitHub\\\\Special-Topics-in-Data-Analytics-CSIS-4260-002\\\\docs\\\\results.csv')\n"
   ]
  },
  {
   "cell_type": "code",
   "execution_count": 48,
   "metadata": {},
   "outputs": [
    {
     "name": "stdout",
     "output_type": "stream",
     "text": [
      "<class 'pandas.core.frame.DataFrame'>\n",
      "RangeIndex: 6 entries, 0 to 5\n",
      "Data columns (total 8 columns):\n",
      " #   Column        Non-Null Count  Dtype  \n",
      "---  ------        --------------  -----  \n",
      " 0   Order_ID      6 non-null      int64  \n",
      " 1   Date_Created  6 non-null      object \n",
      " 2   Category      6 non-null      object \n",
      " 3   City          6 non-null      object \n",
      " 4   Price         6 non-null      float64\n",
      " 5   Product_Name  6 non-null      object \n",
      " 6   State         6 non-null      object \n",
      " 7   Sub_Category  6 non-null      object \n",
      "dtypes: float64(1), int64(1), object(6)\n",
      "memory usage: 516.0+ bytes\n",
      "None\n"
     ]
    }
   ],
   "source": [
    "print(results.info())\n"
   ]
  },
  {
   "cell_type": "code",
   "execution_count": 49,
   "metadata": {},
   "outputs": [
    {
     "name": "stdout",
     "output_type": "stream",
     "text": [
      "   Order_ID Date_Created                     Category               City  \\\n",
      "0         3   2019-06-12  \"Office Supplies, Supplies\"        Los Angeles   \n",
      "1         2   2019-11-08                    Furniture          Henderson   \n",
      "2         4   2020-04-15              Office Supplies            Concord   \n",
      "3         6   2019-12-09              Office Supplies  \"Fremont, Quebec\"   \n",
      "4         1   2019-11-08                    Furniture          Henderson   \n",
      "\n",
      "    Price                                       Product_Name           State  \\\n",
      "0   14.62  Self-Adhesive Address Labels for Typewriters b...      California   \n",
      "1  731.94  \"Hon Deluxe Fabric Upholstered Stacking Chairs...        Kentucky   \n",
      "2   45.90                                         Xerox 1967  North Carolina   \n",
      "3   61.38      \"Acco Six-Outlet Power Strip, 4' Cord Length\"        Nebraska   \n",
      "4  189.99                  Bush Somerset Collection Bookcase        Kentucky   \n",
      "\n",
      "                Sub_Category  \n",
      "0                     Labels  \n",
      "1             \"Chairs, sits\"  \n",
      "2                      Paper  \n",
      "3                 Appliances  \n",
      "4  \"Bookcases, miscelaneous\"  \n"
     ]
    }
   ],
   "source": [
    "print(results.head())\n"
   ]
  },
  {
   "cell_type": "code",
   "execution_count": 51,
   "metadata": {},
   "outputs": [
    {
     "name": "stdout",
     "output_type": "stream",
     "text": [
      "Index(['Order_ID', 'Date_Created', 'Category', 'City', 'Price', 'Product_Name',\n",
      "       'State', 'Sub_Category'],\n",
      "      dtype='object')\n"
     ]
    }
   ],
   "source": [
    "print(results.columns)\n"
   ]
  },
  {
   "cell_type": "code",
   "execution_count": 50,
   "metadata": {},
   "outputs": [
    {
     "name": "stdout",
     "output_type": "stream",
     "text": [
      "(6, 8)\n"
     ]
    }
   ],
   "source": [
    "print(results.shape)\n"
   ]
  },
  {
   "cell_type": "code",
   "execution_count": 52,
   "metadata": {},
   "outputs": [
    {
     "name": "stdout",
     "output_type": "stream",
     "text": [
      "Order_ID          int64\n",
      "Date_Created     object\n",
      "Category         object\n",
      "City             object\n",
      "Price           float64\n",
      "Product_Name     object\n",
      "State            object\n",
      "Sub_Category     object\n",
      "dtype: object\n"
     ]
    }
   ],
   "source": [
    "print(results.dtypes)"
   ]
  },
  {
   "cell_type": "markdown",
   "metadata": {},
   "source": [
    "| Order_ID | Date_Created | Category                  | City             | Price  | Product_Name                                           | State         | Sub_Category            |\n",
    "|----------|--------------|---------------------------|------------------|--------|--------------------------------------------------------|---------------|-------------------------|\n",
    "| 3        | 2019-06-12   | Office Supplies, Supplies | Los Angeles      | 14.62  | Self-Adhesive Address Labels for Typewriters by Universal | California    | Labels                  |\n",
    "| 2        | 2019-11-08   | Furniture                 | Henderson        | 731.94 | Hon Deluxe Fabric Upholstered Stacking Chairs, Rounded Back| Kentucky      | Chairs, sits            |\n",
    "| 4        | 2020-04-15   | Office Supplies            | Concord          | 45.9   | Xerox 1967                                             | North Carolina | Paper                  |\n",
    "| 6        | 2019-12-09   | Office Supplies           | Fremont, Quebec   | 61.38  | Acco Six-Outlet Power Strip, 4' Cord Length             | Nebraska      | Appliances              |\n",
    "| 1        | 2019-11-08   | Furniture                 | Henderson        | 189.99 | Bush Somerset Collection Bookcase                      | Kentucky      | Bookcases, miscellaneous |\n",
    "| 5        | 2019-12-05   | Office Supplies            | Seattle, New York | 907.15 | Fellowes PB200 Plastic Comb Binding Machine            | Washington    | Binders                 |\n"
   ]
  }
 ],
 "metadata": {
  "kernelspec": {
   "display_name": "Python 3",
   "language": "python",
   "name": "python3"
  },
  "language_info": {
   "codemirror_mode": {
    "name": "ipython",
    "version": 3
   },
   "file_extension": ".py",
   "mimetype": "text/x-python",
   "name": "python",
   "nbconvert_exporter": "python",
   "pygments_lexer": "ipython3",
   "version": "3.12.0"
  }
 },
 "nbformat": 4,
 "nbformat_minor": 2
}
