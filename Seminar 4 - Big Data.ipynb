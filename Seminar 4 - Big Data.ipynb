{
 "cells": [
  {
   "cell_type": "markdown",
   "metadata": {},
   "source": [
    "# **Big Data: Challenges and Strategies in Data Generation, Storage, and Retrieval**"
   ]
  },
  {
   "cell_type": "markdown",
   "metadata": {},
   "source": [
    "| Order_ID | Date_Created | Category                  | City             | Price  | Product_Name                                           | State         | Sub_Category            |\n",
    "|----------|--------------|---------------------------|------------------|--------|--------------------------------------------------------|---------------|-------------------------|\n",
    "| 3        | 2019-06-12   | Office Supplies, Supplies | Los Angeles      | 14.62  | Self-Adhesive Address Labels for Typewriters by Universal | California    | Labels                  |\n",
    "| 2        | 2019-11-08   | Furniture                 | Henderson        | 731.94 | Hon Deluxe Fabric Upholstered Stacking Chairs, Rounded Back| Kentucky      | Chairs, sits            |\n",
    "| 4        | 2020-04-15   | Office Supplies            | Concord          | 45.9   | Xerox 1967                                             | North Carolina | Paper                  |\n",
    "| 6        | 2019-12-09   | Office Supplies           | Fremont, Quebec   | 61.38  | Acco Six-Outlet Power Strip, 4' Cord Length             | Nebraska      | Appliances              |\n",
    "| 1        | 2019-11-08   | Furniture                 | Henderson        | 189.99 | Bush Somerset Collection Bookcase                      | Kentucky      | Bookcases, miscellaneous |\n",
    "| 5        | 2019-12-05   | Office Supplies            | Seattle, New York | 907.15 | Fellowes PB200 Plastic Comb Binding Machine            | Washington    | Binders                 |\n"
   ]
  },
  {
   "cell_type": "code",
   "execution_count": null,
   "metadata": {},
   "outputs": [],
   "source": [
    "+"
   ]
  }
 ],
 "metadata": {
  "kernelspec": {
   "display_name": "Python 3",
   "language": "python",
   "name": "python3"
  },
  "language_info": {
   "codemirror_mode": {
    "name": "ipython",
    "version": 3
   },
   "file_extension": ".py",
   "mimetype": "text/x-python",
   "name": "python",
   "nbconvert_exporter": "python",
   "pygments_lexer": "ipython3",
   "version": "3.12.0"
  }
 },
 "nbformat": 4,
 "nbformat_minor": 2
}
