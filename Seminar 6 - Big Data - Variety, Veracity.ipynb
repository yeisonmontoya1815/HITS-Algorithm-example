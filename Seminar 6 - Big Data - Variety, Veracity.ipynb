{
 "cells": [
  {
   "cell_type": "markdown",
   "metadata": {},
   "source": [
    "# **Seminar VI - Big Data: Variety and veracity applications** \n",
    "- *Yeison Montoya*\n",
    "- *Special Topics in Data Analytics CSIS 4260 - 002*\n",
    "- *Seminar VI - WINTER 2024*"
   ]
  },
  {
   "cell_type": "markdown",
   "metadata": {},
   "source": [
    "**Technologies for analyzing data variety and data veracity and lessons learned**\n",
    "\n",
    "Users on Facebook have the freedom to express their feelings about various topics, ranging from politics to the environment. This makes Facebook an ideal platform for conducting sentiment analysis tasks and leveraging the power of social network algorithms developed through machine learning using Python. By performing sentiment analysis on Facebook posts, trends among users can be accurately identified, enabling effective management of vast amounts of information. Implementation of batch data processing makes sense in the case of high volumes of data. \n"
   ]
  },
  {
   "cell_type": "markdown",
   "metadata": {},
   "source": [
    "Let's begin the process of analyzing sentiments in Facebook posts through machine learning using Python. To commence, I'll import the required Python libraries and the dataset.\n",
    "\n",
    "\n",
    "\n",
    "\n"
   ]
  },
  {
   "cell_type": "code",
   "execution_count": 7,
   "metadata": {},
   "outputs": [
    {
     "name": "stdout",
     "output_type": "stream",
     "text": [
      "<class 'list'>\n",
      "<class 'dict'>\n",
      "177\n"
     ]
    }
   ],
   "source": [
    "import pandas as pd\n",
    "from nltk.sentiment.vader import SentimentIntensityAnalyzer\n",
    "from nltk.stem import LancasterStemmer, WordNetLemmatizer \n",
    "from nltk.corpus import stopwords\n",
    "from nltk.probability import FreqDist\n",
    "import re\n",
    "import unicodedata\n",
    "import nltk\n",
    "import json\n",
    "import inflect\n",
    "import matplotlib.pyplot as plt\n",
    "\n",
    "import json\n",
    "# load json into python, assign to 'data'\n",
    "with open('/workspaces/Special-Topics-in-Data-Analytics-CSIS-4260-002/docs/your_posts__1.json') as file:\n",
    "    data = json.load(file)\n",
    "print(type(data))     # a list\n",
    "print(type(data[0]))  # first object in the list: a dictionary\n",
    "print(len(data))"
   ]
  },
  {
   "cell_type": "markdown",
   "metadata": {},
   "source": [
    "Next, we must retrieve the post descriptions to facilitate sentiment analysis. The textual content of the posts will be stored in a list for further analysis.\n",
    "\n",
    "\n",
    "\n",
    "\n"
   ]
  },
  {
   "cell_type": "code",
   "execution_count": 8,
   "metadata": {},
   "outputs": [
    {
     "name": "stdout",
     "output_type": "stream",
     "text": [
      "This is the empty list:  ['QUE CANCION!!!! ESCHUCHENLA', 'http://www.proyectotaller24.blogspot.com/\\n', 'QUE TEMAAAAA', 'pa rumbiar hoy dia del amor y la amistad', 'mucho tema', 'I cant believe I found this just : http://clashofclanshelper.com/ - you receive  Clash of Clans gems instantly! Everybody uses this ! (BWFS08Ck61)', 'Safe and sound! ð\\x9f\\x8d\\x82 ð\\x9f\\x8d\\x81ð\\x9f\\x8d\\x82ð\\x9f\\x8d\\x81', 'Amazing! Ive just received 100 000 free Clash of Clans gems! http://t.co/ZfSjqWIfxc', 'I cant believe I found this just : http://t.co/cXbuWexHux - you receive  Clash of Clans gems instantly! Everybody uses this ! (BWFS08Ck61)', 'Ud sabe porque se casÃ³ adonay???? Jejeje #PreguntasReinas', 'Recomendado! http://t.co/b7eUDd1bbu http://t.co/QCPIro149d', 'Utilizo avast! Free Antivirus para proteger mi PC y estoy muy satisfeco con Ã©l. PruÃ©balo en http://t.co/3TnKLQDW #avast', 'Me encanta Dropbox porque es necesario y util para compartir archivos http://t.co/V023ZjCY', 'Â¡Mira mi coche en #CSRRacing para iPhone! Â¡PruÃ©balo GRATIS!\\nhttp://t.co/VjX4jsLg mi carro http://t.co/K4aJgwMt', 'Acabo de reportar un congestionamiento en Calle 13, Bogota, http://t.co/wPSEna2x con el GPS social @waze_es', 'Â¡Acabo de subir al nivel 3 en #CSRRacing para iPhone! DeberÃ\\xadas probarlo, Â¡ES GRATIS! http://t.co/VjX4jsLg', 'Acabo de reportar un congestionamiento en Calle 17S, Bogota, http://t.co/jyr8FLbN con el GPS social @waze_es', 'Acabo de reportar un congestionamiento en Carrera 9, Bogota, http://t.co/Q8vM2HZX con el GPS social @waze_es', 'InstalÃ© @waze_es en mi mobile phone. Es una aplicaciÃ³n GPS gratuita con juegos y sociabilidad http://t.co/s8aaS5ha', '#enreproducciÃ³n Planeta Rock en Radio Acktiva con @TuneIn http://t.co/89zhGH3T rock en la tarde http://t.co/8Zz9Je7L http://t.co/QdeWirbp', 'Hola, prueba WhatsApp para iPhone, Android, Nokia y BlackBerry. BÃ¡jatela de http://t.co/efhWM382 y olvida de los SMS.', 'http://t.co/e83dDngs', 'Buongiorno!!!', 'Energy!', 'fuerza maÃ±ana pa que gane espaÃ±a', 'EJJE', 'CAMPEON.. CAMPEON.. ESPAÃ\\x91A CAMPEON!!!!!!!!!', 'Vamos ESPAÃ±A a ganar!!!', 'Vamos ESPAÃ±A a ganar!!!', 'Condujo a Bogota usando Waze', 'Que golazooooooo hpppppp', 'â\\x88\\x9e\\nf(x) = a0 + â\\x88\\x91 (an cos nWox + bn sen nWox)dx  :( jmm quien entiende esta joda\\n               n=1', 'Colombiaaaaa!!!!!!', 'Colombiaaaaa!!!!!!', 'Jmmm juep viaje casi no llego', 'hoy colombia se llena de lagrimas mueren unos heroes de la nacion a sus familias mi mas sentido pesame', 'Pin 26B107C0', 'Pin 26B107C0', 'NO LO PUEDO CREER!! PERDIO ESPAÃ\\x91A NOOOOOOOOOO!', 'FELIZ DIA A TODAS LAS BRUJAS DE MIS AMIGAS!!!!!!!!!!!!!!', 'TRABAJA COMO SI NO NECESITARAS DINERO, \\x0bAMA COMO SI NUNCA TE HUBIERAN HERIDO,\\x0b Y BAILA COMO SI NADIE TE ESTUVIERA VIENDO.', 'La mayor declaraciÃ³n de amor es la que no se hace; el hombre que siente mucho, habla poco', 'El sexo sin amor es una experiencia vacÃ\\xada. Pero como experiencia vacÃ\\xada es una de las mejores.', 'now this evolution!!!!!!', 'juanis feliz cumpleaÃ±os que cumplas muchos mas', 'mami feliz cumpleaÃ±os que dios me la bendiga y la traiga muchos regalitos jejeje', 'feliz cumpleaÃ±os cursito que cumpla muchos mas!!!!', 'hola nena feliz cumpleaÃ±os que la pases deli y que cumplas muchos mas besos', 'tia feliz cumpleaÃ±os que dios la bendiga', 'oye guti feliz cumpleaÃ±os ahi tiene su regalo el junior paso a la final jejejeje', 'hey rojo hAppy birthday que cumpla muchos mas y que le partan el biscocho jejejeje', 'oee chino feliz cumpleaÃ±os que tome mucha pola y se emborrache jejejejejeje', 'porque me borraste del pin', 'Feliz cumpleaÃ±os China y ya sabe cÃ³mo dice el dicho ....\"que le partan la torta\"....', 'Curso feliz cumpleaÃ±os q Dios lo bendiga', 'Feliz cumpleaÃ±os rolo que dios lo bendiga y le dÃ© muchos mÃ¡s aÃ±os de vida y mire haber si hasta una pola pa celebrar jejeje', 'Hermanita linda te deseo un feliz cumpleaÃ±os, que dios te bendiga y sÃ\\xadguela pasando bien ó¾\\x94\\x91ð\\x9f\\x8d¾ó¾¦\\x87ó¾¦\\x87ó¾¦\\x87ó¾¦\\x87ó¾¦\\x87ó¾\\x8c©ó¾®\\x97', 'ó¾\\x94\\x91feliz cumpleaÃ±os primitaó¾\\x94\\x91', 'Feliz cumpleaÃ±os pa la tÃ\\xada Jenny ó¾¥¢ó¾\\x94\\x90ó¾\\x94\\xa0ó¾\\x94\\x97', 'Feliz cumpleaÃ±os Tia Lolita ó¾\\x94\\x91', 'Feliz cumpleaÃ±os parce! ð\\x9f\\x8e\\x82ð\\x9f\\x8d»que los cumpla muy feliz', 'Feliz cumpleaÃ±os Tia', 'Feliz cumpleaÃ±os a ti.... jeje feliz cumple doÃ±a flor que Dios la bendiga y le traiga mucha felicidad en este nuevo aÃ±o', 'Feliz cumpleaÃ±os Tia sol que Dios la bendiga y le de muchsisimos mas ð\\x9f\\x8e\\x82ð\\x9f¥\\x82', 'Feliz cumpleaÃ±os primita dios la bendiga ð\\x9f\\x8e\\x82ð\\x9f\\x8d»ð\\x9f\\x8d»ð\\x9f\\x8d»', 'Feliz cumple ð\\x9f\\x8e\\x81 tia yenny ð\\x9f\\x8e\\x82ð\\x9f\\x8e\\x88ð\\x9f\\x8e\\x89ð\\x9f\\x8e\\x8að\\x9f\\x8e\\x89', 'Chamo! Feliz cumpleaÃ±os ð\\x9f\\x8e\\x89ð\\x9f\\x8e\\x81ð\\x9f\\x8e\\x88ð\\x9f\\x8e\\x8a', 'Tio feliz cumpleaÃ±os que dios lo bendiga y le de muchos mÃ¡s ð\\x9f\\x8e\\x82ð\\x9f\\x8d»', 'Feliz cumpleaÃ±os ð\\x9f\\x8e\\x82 danielita que dios te bendiga, te mando un abrazo', 'Feliz cumpleaÃ±os tÃ\\xada Floralba Chaves', 'Feliz cumpleaÃ±os suegrita', 'Feliz cumpleaÃ±os ð\\x9f\\x8e\\x8að\\x9f\\x8e\\x82ð\\x9f\\x8e\\x88ð\\x9f\\x8e\\x89ð\\x9f\\x8e\\x81 Monik Cuadros saludos prima', 'Feliz cumpleaÃ±os ð\\x9f\\x8e\\x89ð\\x9f\\x8e\\x8að\\x9f\\x8e\\x82ð\\x9f\\x8e\\x81ð\\x9f\\x8e\\x88 tÃ\\xada Yenny', 'Feliz cumpleaÃ±os ð\\x9f\\x8e\\x89ð\\x9f\\x8e\\x81ð\\x9f\\x8e\\x8að\\x9f\\x8e\\x88 Mafe!ð\\x9f\\x91\\x8d', 'Feliz cumpleaÃ±os Clarita ð\\x9f\\x8d° ð\\x9f\\x8e\\x81', 'Feliz cumpleaÃ±os ð\\x9f\\x8e\\x82ð\\x9f\\x8e\\x81ð\\x9f\\x8e\\x88ð\\x9f\\x8e\\x8að\\x9f\\x8e\\x89 tÃ\\xado Nelson Gustavo Bejarano PeÃ±a', 'FELIZ cumpleaÃ±os adri ð\\x9f\\x8e\\x82 que dios te bendiga y te de muchos aÃ±os mÃ¡s', 'Happy birthday to you! ð\\x9f\\x8d»', 'TÃ\\xada feliz cumpleaÃ±os ð\\x9f\\x8e\\x88ð\\x9f\\x8e\\x8a', 'Feliz cumpleaÃ±os ð\\x9f\\x8e\\x82 viejo Adrian Pareja', 'Suegrita que dios la bendiga, un FELIZ CUMPLEAÃ\\x91OS ð\\x9f¥³', 'Feliz cumpleaÃ±os ð\\x9f\\x8e\\x81ð\\x9f\\x8e\\x82ð\\x9f\\x8e\\x8að\\x9f\\x8e\\x89ð\\x9f\\x8e\\x88 monito que dios lo bendiga', 'Feliz cumpleaÃ±os ð\\x9f\\x8e\\x82ð\\x9f\\x8e\\x88ð\\x9f\\x8e\\x89ð\\x9f\\x8e\\x81 tÃ\\xada aura', 'Feliz cumpleaÃ±os!!!!ð\\x9f\\x8e\\x89ð\\x9f\\x8e\\x81ð\\x9f\\x8e\\x82ð\\x9f\\x8e\\x8að\\x9f\\x8e\\x88 mafesita que cumplas muchos mÃ¡s', 'Feliz cumpleaÃ±os negrita que Dios te bendiga y te de muchos aÃ±os mÃ¡s ð\\x9f¥\\x82', 'Feliz cumpleaÃ±os tÃ\\xado Nelson', 'Feliz cumpleaÃ±os ð\\x9f\\x8e\\x81ð\\x9f\\x8e\\x8að\\x9f\\x8e\\x82ð\\x9f\\x8e\\x89ð\\x9f\\x8e\\x88 tÃ\\xada Amalia', 'Feliz cumpleaÃ±os ð\\x9f\\x8e\\x81 mafesita', 'Feliz cumpleaÃ±os comadre Jennyâ\\x80\\x99s que dios te bendiga ð\\x9f\\x8e\\x81', 'Feliz cumpleaÃ±os ð\\x9f\\x8e\\x8að\\x9f\\x8e\\x81ð\\x9f\\x8e\\x82ð\\x9f\\x8e\\x88ð\\x9f\\x8e\\x89 clarita! Que dios te bendiga y te de muchos aÃ±os mÃ¡s', 'Hola ahijado!!! Feliz cumpleaÃ±os ð\\x9f\\x8e\\x82ð\\x9f\\x8e\\x8að\\x9f\\x8e\\x88ð\\x9f\\x8e\\x89ð\\x9f\\x8e\\x81 que dios te bendiga y mucha prosperidad', 'Feliz cumpleaÃ±os ð\\x9f\\x8e\\x8að\\x9f\\x8e\\x88ð\\x9f\\x8e\\x89ð\\x9f\\x8e\\x81ð\\x9f\\x8e\\x82 marcelita', 'Feliz cumpleaÃ±os a la tÃ\\xada bella ð\\x9f\\x8e\\x81', 'Feliz cumpleaÃ±os ð\\x9f\\x8e\\x82ð\\x9f\\x8e\\x88ð\\x9f\\x8e\\x89ð\\x9f\\x8e\\x8að\\x9f\\x8e\\x81 clarita', 'Feliz cumpleaÃ±os mi madrecita te amo mucho!', 'Happy happy birthday to you', 'Happy Birthday Mamita Ana Mery Lemus\\nâ\\x9d¤ï¸\\x8f', 'Happy Birthday ð\\x9f\\x8e\\x89ð\\x9f¥³ Lili!']\n",
      "\n",
      "Length of list:  98\n",
      "QUE CANCION!!!! ESCHUCHENLA\n",
      "http://www.proyectotaller24.blogspot.com/\n",
      "\n",
      "QUE TEMAAAAA\n",
      "pa rumbiar hoy dia del amor y la amistad\n",
      "mucho tema\n",
      "I cant believe I found this just : http://clashofclanshelper.com/ - you receive  Clash of Clans gems instantly! Everybody uses this ! (BWFS08Ck61)\n",
      "Safe and sound! ð ððð\n",
      "Amazing! Ive just received 100 000 free Clash of Clans gems! http://t.co/ZfSjqWIfxc\n",
      "I cant believe I found this just : http://t.co/cXbuWexHux - you receive  Clash of Clans gems instantly! Everybody uses this ! (BWFS08Ck61)\n",
      "Ud sabe porque se casÃ³ adonay???? Jejeje #PreguntasReinas\n",
      "Recomendado! http://t.co/b7eUDd1bbu http://t.co/QCPIro149d\n",
      "Utilizo avast! Free Antivirus para proteger mi PC y estoy muy satisfeco con Ã©l. PruÃ©balo en http://t.co/3TnKLQDW #avast\n",
      "Me encanta Dropbox porque es necesario y util para compartir archivos http://t.co/V023ZjCY\n",
      "Â¡Mira mi coche en #CSRRacing para iPhone! Â¡PruÃ©balo GRATIS!\n",
      "http://t.co/VjX4jsLg mi carro http://t.co/K4aJgwMt\n",
      "Acabo de reportar un congestionamiento en Calle 13, Bogota, http://t.co/wPSEna2x con el GPS social @waze_es\n",
      "Â¡Acabo de subir al nivel 3 en #CSRRacing para iPhone! DeberÃ­as probarlo, Â¡ES GRATIS! http://t.co/VjX4jsLg\n",
      "Acabo de reportar un congestionamiento en Calle 17S, Bogota, http://t.co/jyr8FLbN con el GPS social @waze_es\n",
      "Acabo de reportar un congestionamiento en Carrera 9, Bogota, http://t.co/Q8vM2HZX con el GPS social @waze_es\n",
      "InstalÃ© @waze_es en mi mobile phone. Es una aplicaciÃ³n GPS gratuita con juegos y sociabilidad http://t.co/s8aaS5ha\n",
      "#enreproducciÃ³n Planeta Rock en Radio Acktiva con @TuneIn http://t.co/89zhGH3T rock en la tarde http://t.co/8Zz9Je7L http://t.co/QdeWirbp\n",
      "Hola, prueba WhatsApp para iPhone, Android, Nokia y BlackBerry. BÃ¡jatela de http://t.co/efhWM382 y olvida de los SMS.\n",
      "http://t.co/e83dDngs\n",
      "Buongiorno!!!\n",
      "Energy!\n",
      "fuerza maÃ±ana pa que gane espaÃ±a\n",
      "EJJE\n",
      "CAMPEON.. CAMPEON.. ESPAÃA CAMPEON!!!!!!!!!\n",
      "Vamos ESPAÃ±A a ganar!!!\n",
      "Vamos ESPAÃ±A a ganar!!!\n",
      "Condujo a Bogota usando Waze\n",
      "Que golazooooooo hpppppp\n",
      "â\n",
      "f(x) = a0 + â (an cos nWox + bn sen nWox)dx  :( jmm quien entiende esta joda\n",
      "               n=1\n",
      "Colombiaaaaa!!!!!!\n",
      "Colombiaaaaa!!!!!!\n",
      "Jmmm juep viaje casi no llego\n",
      "hoy colombia se llena de lagrimas mueren unos heroes de la nacion a sus familias mi mas sentido pesame\n",
      "Pin 26B107C0\n",
      "Pin 26B107C0\n",
      "NO LO PUEDO CREER!! PERDIO ESPAÃA NOOOOOOOOOO!\n",
      "FELIZ DIA A TODAS LAS BRUJAS DE MIS AMIGAS!!!!!!!!!!!!!!\n",
      "TRABAJA COMO SI NO NECESITARAS DINERO, \u000bAMA COMO SI NUNCA TE HUBIERAN HERIDO,\u000b Y BAILA COMO SI NADIE TE ESTUVIERA VIENDO.\n",
      "La mayor declaraciÃ³n de amor es la que no se hace; el hombre que siente mucho, habla poco\n",
      "El sexo sin amor es una experiencia vacÃ­a. Pero como experiencia vacÃ­a es una de las mejores.\n",
      "now this evolution!!!!!!\n",
      "juanis feliz cumpleaÃ±os que cumplas muchos mas\n",
      "mami feliz cumpleaÃ±os que dios me la bendiga y la traiga muchos regalitos jejeje\n",
      "feliz cumpleaÃ±os cursito que cumpla muchos mas!!!!\n",
      "hola nena feliz cumpleaÃ±os que la pases deli y que cumplas muchos mas besos\n",
      "tia feliz cumpleaÃ±os que dios la bendiga\n",
      "oye guti feliz cumpleaÃ±os ahi tiene su regalo el junior paso a la final jejejeje\n",
      "hey rojo hAppy birthday que cumpla muchos mas y que le partan el biscocho jejejeje\n",
      "oee chino feliz cumpleaÃ±os que tome mucha pola y se emborrache jejejejejeje\n",
      "porque me borraste del pin\n",
      "Feliz cumpleaÃ±os China y ya sabe cÃ³mo dice el dicho ....\"que le partan la torta\"....\n",
      "Curso feliz cumpleaÃ±os q Dios lo bendiga\n",
      "Feliz cumpleaÃ±os rolo que dios lo bendiga y le dÃ© muchos mÃ¡s aÃ±os de vida y mire haber si hasta una pola pa celebrar jejeje\n",
      "Hermanita linda te deseo un feliz cumpleaÃ±os, que dios te bendiga y sÃ­guela pasando bien ó¾ð¾ó¾¦ó¾¦ó¾¦ó¾¦ó¾¦ó¾©ó¾®\n",
      "ó¾feliz cumpleaÃ±os primitaó¾\n",
      "Feliz cumpleaÃ±os pa la tÃ­a Jenny ó¾¥¢ó¾ó¾ ó¾\n",
      "Feliz cumpleaÃ±os Tia Lolita ó¾\n",
      "Feliz cumpleaÃ±os parce! ðð»que los cumpla muy feliz\n",
      "Feliz cumpleaÃ±os Tia\n",
      "Feliz cumpleaÃ±os a ti.... jeje feliz cumple doÃ±a flor que Dios la bendiga y le traiga mucha felicidad en este nuevo aÃ±o\n",
      "Feliz cumpleaÃ±os Tia sol que Dios la bendiga y le de muchsisimos mas ðð¥\n",
      "Feliz cumpleaÃ±os primita dios la bendiga ðð»ð»ð»\n",
      "Feliz cumple ð tia yenny ððððð\n",
      "Chamo! Feliz cumpleaÃ±os ðððð\n",
      "Tio feliz cumpleaÃ±os que dios lo bendiga y le de muchos mÃ¡s ðð»\n",
      "Feliz cumpleaÃ±os ð danielita que dios te bendiga, te mando un abrazo\n",
      "Feliz cumpleaÃ±os tÃ­a Floralba Chaves\n",
      "Feliz cumpleaÃ±os suegrita\n",
      "Feliz cumpleaÃ±os ððððð Monik Cuadros saludos prima\n",
      "Feliz cumpleaÃ±os ððððð tÃ­a Yenny\n",
      "Feliz cumpleaÃ±os ðððð Mafe!ð\n",
      "Feliz cumpleaÃ±os Clarita ð° ð\n",
      "Feliz cumpleaÃ±os ððððð tÃ­o Nelson Gustavo Bejarano PeÃ±a\n",
      "FELIZ cumpleaÃ±os adri ð que dios te bendiga y te de muchos aÃ±os mÃ¡s\n",
      "Happy birthday to you! ð»\n",
      "TÃ­a feliz cumpleaÃ±os ðð\n",
      "Feliz cumpleaÃ±os ð viejo Adrian Pareja\n",
      "Suegrita que dios la bendiga, un FELIZ CUMPLEAÃOS ð¥³\n",
      "Feliz cumpleaÃ±os ððððð monito que dios lo bendiga\n",
      "Feliz cumpleaÃ±os ðððð tÃ­a aura\n",
      "Feliz cumpleaÃ±os!!!!ððððð mafesita que cumplas muchos mÃ¡s\n",
      "Feliz cumpleaÃ±os negrita que Dios te bendiga y te de muchos aÃ±os mÃ¡s ð¥\n",
      "Feliz cumpleaÃ±os tÃ­o Nelson\n",
      "Feliz cumpleaÃ±os ððððð tÃ­a Amalia\n",
      "Feliz cumpleaÃ±os ð mafesita\n",
      "Feliz cumpleaÃ±os comadre Jennyâs que dios te bendiga ð\n",
      "Feliz cumpleaÃ±os ððððð clarita! Que dios te bendiga y te de muchos aÃ±os mÃ¡s\n",
      "Hola ahijado!!! Feliz cumpleaÃ±os ððððð que dios te bendiga y mucha prosperidad\n",
      "Feliz cumpleaÃ±os ððððð marcelita\n",
      "Feliz cumpleaÃ±os a la tÃ­a bella ð\n",
      "Feliz cumpleaÃ±os ððððð clarita\n",
      "Feliz cumpleaÃ±os mi madrecita te amo mucho!\n",
      "Happy happy birthday to you\n",
      "Happy Birthday Mamita Ana Mery Lemus\n",
      "â¤ï¸\n",
      "Happy Birthday ðð¥³ Lili!\n"
     ]
    }
   ],
   "source": [
    "# create empty list\n",
    "empty_lst = []\n",
    "# multiple nested loops to store all post in empty list\n",
    "for dct in data:\n",
    "    for k, v in dct.items():\n",
    "        if k == 'data':\n",
    "            if len(v) > 0:\n",
    "                for k_i, v_i in v[0].items():  \n",
    "                    if k_i == 'post':\n",
    "                        empty_lst.append(v_i)\n",
    "print(\"This is the empty list: \", empty_lst)\n",
    "print(\"\\nLength of list: \", len(empty_lst))\n",
    "for i in empty_lst:\n",
    "  print(i)"
   ]
  },
  {
   "cell_type": "markdown",
   "metadata": {},
   "source": [
    "As evident from the displayed results, there is a list comprising the text content of my Facebook posts, specifically centered around topics related tofamiliar feelings.\n",
    "\n",
    "\n",
    "\n",
    "\n"
   ]
  },
  {
   "cell_type": "markdown",
   "metadata": {},
   "source": [
    "**Data Preparation:**\n",
    "Next, It will be executed tokenization on the text stored in the list."
   ]
  },
  {
   "cell_type": "code",
   "execution_count": 9,
   "metadata": {},
   "outputs": [
    {
     "name": "stdout",
     "output_type": "stream",
     "text": [
      "Flatten sentence token:  133\n"
     ]
    },
    {
     "name": "stderr",
     "output_type": "stream",
     "text": [
      "[nltk_data] Downloading package punkt to /home/codespace/nltk_data...\n",
      "[nltk_data]   Package punkt is already up-to-date!\n"
     ]
    }
   ],
   "source": [
    "nltk.download('punkt')\n",
    "nested_sent_token = [nltk.sent_tokenize(lst) for lst in empty_lst]\n",
    "# flatten list, len: 3241\n",
    "flat_sent_token = [item for sublist in nested_sent_token for item in sublist]\n",
    "print(\"Flatten sentence token: \", len(flat_sent_token))"
   ]
  },
  {
   "cell_type": "markdown",
   "metadata": {},
   "source": [
    "**Normalize the data**\n",
    "\n",
    "- deleting non-ASCII characters\n",
    "\n",
    "- lowercase all words\n",
    "\n",
    "- suppression of punctuation\n",
    "\n",
    "- number replacement\n",
    "\n",
    "- stop words\n",
    "\n",
    "\n",
    "Let's explore the process of developing functions to carry out the mentioned tasks for preparing data for sentiment analysis of Facebook posts.\n",
    "\n",
    "\n"
   ]
  },
  {
   "cell_type": "code",
   "execution_count": 10,
   "metadata": {},
   "outputs": [
    {
     "name": "stdout",
     "output_type": "stream",
     "text": [
      "Length of sentences list:  123\n"
     ]
    },
    {
     "name": "stderr",
     "output_type": "stream",
     "text": [
      "[nltk_data] Downloading package stopwords to\n",
      "[nltk_data]     /home/codespace/nltk_data...\n",
      "[nltk_data]   Unzipping corpora/stopwords.zip.\n"
     ]
    }
   ],
   "source": [
    "def remove_non_ascii(words):\n",
    "    new_words = []\n",
    "    for word in words:\n",
    "        new_word = unicodedata.normalize('NFKD', word).encode(\n",
    "            'ascii', 'ignore').decode('utf-8', 'ignore')\n",
    "        new_words.append(new_word)\n",
    "    return new_words\n",
    "\n",
    "# To LowerCase\n",
    "def to_lowercase(words):\n",
    "    new_words = []\n",
    "    for word in words:\n",
    "        new_word = word.lower()\n",
    "        new_words.append(new_word)\n",
    "    return new_words\n",
    "\n",
    "# Remove Punctuation\n",
    "def remove_punctuation(words):\n",
    "    new_words = []\n",
    "    for word in words:\n",
    "        new_word = re.sub(r'[^\\w\\s]', '', word)\n",
    "        if new_word != '':\n",
    "            new_words.append(new_word)\n",
    "    return new_words\n",
    "\n",
    "# Replace Numbers with Textual Representations\n",
    "def replace_numbers(words):\n",
    "    p = inflect.engine()\n",
    "    new_words = []\n",
    "    for word in words:\n",
    "        if word.isdigit():\n",
    "            new_word = p.number_to_words(word)\n",
    "            new_words.append(new_word)\n",
    "        else:\n",
    "            new_words.append(word)\n",
    "    return new_words\n",
    "\n",
    "# Remove Stopwords\n",
    "def remove_stopwords(words):\n",
    "    new_words = []\n",
    "    for word in words:\n",
    "        if word not in stopwords.words('english'):\n",
    "            new_words.append(word)\n",
    "    return new_words\n",
    "\n",
    "# Combine all functions into Normalize() function\n",
    "def normalize(words):\n",
    "    words = remove_non_ascii(words)\n",
    "    words = to_lowercase(words)\n",
    "    words = remove_punctuation(words)\n",
    "    words = replace_numbers(words)\n",
    "    words = remove_stopwords(words)\n",
    "    return words\n",
    "    \n",
    "nltk.download('stopwords')\n",
    "sents = normalize(flat_sent_token)\n",
    "print(\"Length of sentences list: \", len(sents))"
   ]
  },
  {
   "cell_type": "markdown",
   "metadata": {},
   "source": [
    "The analysis will focus on identifying the most frequently shared sentences to understand the predominant content in the Facebook posts.\n",
    "\n",
    "\n",
    "\n",
    "\n"
   ]
  },
  {
   "cell_type": "code",
   "execution_count": 11,
   "metadata": {},
   "outputs": [
    {
     "data": {
      "image/png": "[encoded data removed]",
      "text/plain": [
       "<Figure size 640x480 with 1 Axes>"
      ]
     },
     "metadata": {},
     "output_type": "display_data"
    },
    {
     "data": {
      "text/plain": [
       "<Axes: xlabel='Samples', ylabel='Counts'>"
      ]
     },
     "execution_count": 11,
     "metadata": {},
     "output_type": "execute_result"
    }
   ],
   "source": [
    "from nltk.probability import FreqDist\n",
    "# Find frequency of sentence\n",
    "fdist_sent = FreqDist(sents)\n",
    "fdist_sent.most_common(10)   \n",
    "# Plot\n",
    "fdist_sent.plot(10)"
   ]
  },
  {
   "cell_type": "markdown",
   "metadata": {},
   "source": [
    "In the final step, the analysis involves assessing the sentiments expressed in the post descriptions, resulting in the generation of a Facebook post sentiment analysis report that categorizes sentiments as neutral, positive, or negative.\n",
    "\n",
    "\n",
    "\n",
    "\n",
    "\n"
   ]
  },
  {
   "cell_type": "code",
   "execution_count": 12,
   "metadata": {},
   "outputs": [
    {
     "name": "stdout",
     "output_type": "stream",
     "text": [
      "First five rows of results:                                     sentence  \\\n",
      "0                               que cancion   \n",
      "1                               eschuchenla   \n",
      "2        httpwwwproyectotaller24blogspotcom   \n",
      "3                              que temaaaaa   \n",
      "4  pa rumbiar hoy dia del amor y la amistad   \n",
      "\n",
      "                                             numbers  \n",
      "0  {'neg': 0.0, 'neu': 1.0, 'pos': 0.0, 'compound...  \n",
      "1  {'neg': 0.0, 'neu': 1.0, 'pos': 0.0, 'compound...  \n",
      "2  {'neg': 0.0, 'neu': 1.0, 'pos': 0.0, 'compound...  \n",
      "3  {'neg': 0.0, 'neu': 1.0, 'pos': 0.0, 'compound...  \n",
      "4  {'neg': 0.0, 'neu': 0.636, 'pos': 0.364, 'comp...  \n",
      "First five rows of results2:        label  values\n",
      "0       neg     0.0\n",
      "1       neu     1.0\n",
      "2       pos     0.0\n",
      "3  compound     0.0\n",
      "4       neg     0.0\n"
     ]
    },
    {
     "name": "stderr",
     "output_type": "stream",
     "text": [
      "[nltk_data] Downloading package vader_lexicon to\n",
      "[nltk_data]     /home/codespace/nltk_data...\n"
     ]
    }
   ],
   "source": [
    "nltk.download('vader_lexicon')\n",
    "sid = SentimentIntensityAnalyzer()\n",
    "sentiment = []\n",
    "sentiment2 = []\n",
    "for sent in sents:\n",
    "    sent1 = sent\n",
    "    sent_scores = sid.polarity_scores(sent1)\n",
    "    for x, y in sent_scores.items():\n",
    "        sentiment2.append((x, y))\n",
    "    sentiment.append((sent1, sent_scores))\n",
    "    # print(sentiment)\n",
    "# sentiment\n",
    "cols = ['sentence', 'numbers']\n",
    "result = pd.DataFrame(sentiment, columns=cols)\n",
    "print(\"First five rows of results: \", result.head())\n",
    "# sentiment2\n",
    "cols2 = ['label', 'values']\n",
    "result2 = pd.DataFrame(sentiment2, columns=cols2)\n",
    "print(\"First five rows of results2: \", result2.head())"
   ]
  }
 ],
 "metadata": {
  "kernelspec": {
   "display_name": "Python 3",
   "language": "python",
   "name": "python3"
  },
  "language_info": {
   "codemirror_mode": {
    "name": "ipython",
    "version": 3
   },
   "file_extension": ".py",
   "mimetype": "text/x-python",
   "name": "python",
   "nbconvert_exporter": "python",
   "pygments_lexer": "ipython3",
   "version": "3.10.13"
  }
 },
 "nbformat": 4,
 "nbformat_minor": 2
}
