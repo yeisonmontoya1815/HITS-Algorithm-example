{
 "cells": [
  {
   "cell_type": "markdown",
   "metadata": {},
   "source": [
    "# **Seminar VIII - Ethics of Big Data** \n",
    "- *Yeison Montoya ID: 300375916*\n",
    "- *Special Topics in Data Analytics CSIS 4260 - 002*\n",
    "- *Seminar VIII - WINTER 2024*"
   ]
  },
  {
   "cell_type": "markdown",
   "metadata": {},
   "source": [
    "**1. What are the ethical issues and challenges faced by the big data industry?**"
   ]
  },
  {
   "cell_type": "markdown",
   "metadata": {},
   "source": []
  },
  {
   "cell_type": "markdown",
   "metadata": {},
   "source": [
    "**2. What are some solutions for implementing, maintaining and improving the ethical integrity of Big Data**"
   ]
  },
  {
   "cell_type": "markdown",
   "metadata": {},
   "source": []
  },
  {
   "cell_type": "markdown",
   "metadata": {},
   "source": [
    "**3. Using any ONE of the following industries or any other industry example, and answer the questions below:**\n",
    "\n",
    "    Facebook / Twitter / Other social media\n",
    "    Video(such asyoutube) \n",
    "    Internet of things (connected / smart devices)\n",
    "    Search engines Security (National / local)\n",
    "    Scientific research \n",
    "    Biomedical applications/Health Industry"
   ]
  },
  {
   "cell_type": "markdown",
   "metadata": {},
   "source": [
    "a. highlight a recent ethical challenge faced by a company handling big data."
   ]
  },
  {
   "cell_type": "markdown",
   "metadata": {},
   "source": []
  },
  {
   "cell_type": "markdown",
   "metadata": {},
   "source": [
    "b. what measures did they take to control the damage and to prevent this in the future."
   ]
  },
  {
   "cell_type": "markdown",
   "metadata": {},
   "source": []
  },
  {
   "cell_type": "markdown",
   "metadata": {},
   "source": [
    "c. In your opinion, do you think these measures adequately address the ethical violations and issues they faced? Explain your answer."
   ]
  },
  {
   "cell_type": "markdown",
   "metadata": {},
   "source": []
  }
 ],
 "metadata": {
  "kernelspec": {
   "display_name": "Python 3",
   "language": "python",
   "name": "python3"
  },
  "language_info": {
   "codemirror_mode": {
    "name": "ipython",
    "version": 3
   },
   "file_extension": ".py",
   "mimetype": "text/x-python",
   "name": "python",
   "nbconvert_exporter": "python",
   "pygments_lexer": "ipython3",
   "version": "3.12.0"
  }
 },
 "nbformat": 4,
 "nbformat_minor": 2
}
